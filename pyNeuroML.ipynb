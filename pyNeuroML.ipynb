{
 "metadata": {
  "name": "",
  "signature": "sha256:eae85fbcb82c57785d5e51d9ff1eb78557ebdb5d05e5fe08d83fae8013c621ee"
 },
 "nbformat": 3,
 "nbformat_minor": 0,
 "worksheets": [
  {
   "cells": [
    {
     "cell_type": "code",
     "collapsed": false,
     "input": [
      "%load_ext autoreload\n",
      "%autoreload 2"
     ],
     "language": "python",
     "metadata": {},
     "outputs": [
      {
       "output_type": "stream",
       "stream": "stdout",
       "text": [
        "The autoreload extension is already loaded. To reload it, use:\n",
        "  %reload_ext autoreload\n"
       ]
      }
     ],
     "prompt_number": 1
    },
    {
     "cell_type": "code",
     "collapsed": false,
     "input": [
      "%matplotlib inline\n",
      "import matplotlib.pyplot as plt"
     ],
     "language": "python",
     "metadata": {},
     "outputs": [],
     "prompt_number": 2
    },
    {
     "cell_type": "code",
     "collapsed": false,
     "input": [
      "import sys\n",
      "sys.path.append('/Users/rgerkin/dev')\n",
      "sys.path.append('/Users/rgerkin/dev/pyNeuroML')\n",
      "from pyneuroml import pynml"
     ],
     "language": "python",
     "metadata": {},
     "outputs": [],
     "prompt_number": 3
    },
    {
     "cell_type": "code",
     "collapsed": false,
     "input": [
      "nml_file_path = '/Users/rgerkin/dev/muscle_model/NeuroML2/k_fast.channel.nml'"
     ],
     "language": "python",
     "metadata": {},
     "outputs": [],
     "prompt_number": 18
    },
    {
     "cell_type": "code",
     "collapsed": false,
     "input": [
      "run nml/jnml.py"
     ],
     "language": "python",
     "metadata": {},
     "outputs": [
      {
       "output_type": "stream",
       "stream": "stdout",
       "text": [
        "pyneuroml.analysis.NML2ChannelAnalysis\n",
        "Written generated LEMS file to LEMS_Test_k_fast.xml\n",
        "\n",
        "pyNeuroML >>> Loading LEMS file: LEMS_Test_k_fast.xml and running with jNeuroML\n",
        "pyNeuroML >>>  jNeuroML v0.7.1\n",
        "pyNeuroML >>> Loading: /Users/rgerkin/Dropbox/dev/neuronunit/LEMS_Test_k_fast.xml with jLEMS, NO GUI mode...\n",
        "pyNeuroML >>> INFO May 21,2015 22:12  (INFO) Reading from: /Users/rgerkin/Dropbox/dev/neuronunit/LEMS_Test_k_fast.xml\n",
        "pyNeuroML >>> INFO May 21,2015 22:12  (MISSING)  at: org.lemsml.jlems.core.run.RunConfig.getControlComponent(RunConfig.java:65)\n",
        "pyNeuroML >>> INFO May 21,2015 22:12  (INFO) Finished 40000 steps in 1.763 seconds (sim duration: 1.0ms; dt: 2.5E-5ms)\n",
        "pyNeuroML >>> INFO May 21,2015 22:12  (INFO) Written the file /Users/rgerkin/Dropbox/dev/neuronunit/./k_fast.p.inf.lems.dat 782413\n",
        "pyNeuroML >>> INFO May 21,2015 22:12  (INFO) Written the file /Users/rgerkin/Dropbox/dev/neuronunit/./k_fast.p.tau.lems.dat 808874\n",
        "pyNeuroML >>> INFO May 21,2015 22:12  (INFO) Written the file /Users/rgerkin/Dropbox/dev/neuronunit/./k_fast.q.inf.lems.dat 873744\n",
        "pyNeuroML >>> INFO May 21,2015 22:12  (INFO) Written the file /Users/rgerkin/Dropbox/dev/neuronunit/./k_fast.q.tau.lems.dat 728872\n",
        "pyNeuroML >>> INFO May 21,2015 22:12  (INFO) Written the file /Users/rgerkin/Dropbox/dev/neuronunit/./k_fast.rampV.lems.dat 801879\n",
        "pyNeuroML >>> INFO May 21,2015 22:12  (INFO) Finished reading, building, running and displaying LEMS model\n",
        "pyNeuroML >>> "
       ]
      },
      {
       "output_type": "stream",
       "stream": "stdout",
       "text": [
        "\n",
        "pyNeuroML >>> Loading saved data from k_fast.p.inf.lems.dat (jNeuroML)\n",
        "pyNeuroML >>> Loading saved data from k_fast.p.tau.lems.dat (jNeuroML)"
       ]
      },
      {
       "output_type": "stream",
       "stream": "stdout",
       "text": [
        "\n",
        "pyNeuroML >>> Loading saved data from k_fast.q.inf.lems.dat (jNeuroML)"
       ]
      },
      {
       "output_type": "stream",
       "stream": "stdout",
       "text": [
        "\n",
        "pyNeuroML >>> Loading saved data from k_fast.q.tau.lems.dat (jNeuroML)"
       ]
      },
      {
       "output_type": "stream",
       "stream": "stdout",
       "text": [
        "\n",
        "pyNeuroML >>> Loading saved data from k_fast.rampV.lems.dat (jNeuroML)"
       ]
      },
      {
       "output_type": "stream",
       "stream": "stdout",
       "text": [
        "\n",
        "Ran LEMS file LEMS_Test_k_fast.xml"
       ]
      },
      {
       "output_type": "stream",
       "stream": "stdout",
       "text": [
        "\n"
       ]
      }
     ],
     "prompt_number": 19
    },
    {
     "cell_type": "code",
     "collapsed": false,
     "input": [
      "cols = load_dat('i_65.lems')"
     ],
     "language": "python",
     "metadata": {},
     "outputs": [],
     "prompt_number": 5
    },
    {
     "cell_type": "code",
     "collapsed": false,
     "input": [
      "plt.plot(cols[0],cols[1])"
     ],
     "language": "python",
     "metadata": {},
     "outputs": [
      {
       "metadata": {},
       "output_type": "pyout",
       "prompt_number": 6,
       "text": [
        "[<matplotlib.lines.Line2D at 0x108356978>]"
       ]
      },
      {
       "metadata": {},
       "output_type": "display_data",
       "png": "[encoded data removed]",
       "text": [
        "<matplotlib.figure.Figure at 0x10813d0f0>"
       ]
      }
     ],
     "prompt_number": 6
    },
    {
     "cell_type": "code",
     "collapsed": false,
     "input": [
      "muscle_model_xml = os.path.join(OPENWORM_HOME,'muscle_model/NeuroML2/LEMS_NeuronMuscle.xml')\n",
      "ca_boyle_nml = os.path.join(OPENWORM_HOME,'muscle_model/NeuroML2/ca_boyle.channel.nml')"
     ],
     "language": "python",
     "metadata": {},
     "outputs": [],
     "prompt_number": 7
    },
    {
     "cell_type": "code",
     "collapsed": false,
     "input": [
      "run_lems(muscle_model_xml)"
     ],
     "language": "python",
     "metadata": {},
     "outputs": [
      {
       "output_type": "stream",
       "stream": "stdout",
       "text": [
        "Ran LEMS file LEMS_NeuronMuscle.xml\n"
       ]
      },
      {
       "metadata": {},
       "output_type": "pyout",
       "prompt_number": 8,
       "text": [
        "[\"b' jNeuroML v0.5.2\",\n",
        " 'Loading: /Users/rgerkin/Dropbox/dev/muscle_model/NeuroML2/LEMS_NeuronMuscle.xml with jLEMS, NO GUI mode...',\n",
        " 'INFO May 21,2015 21:56  (INFO) Reading from: /Users/rgerkin/Dropbox/dev/muscle_model/NeuroML2/LEMS_NeuronMuscle.xml',\n",
        " 'WARNING May 21,2015 21:56  (WARNING) No internal variable is linked to the exposure: iDensity for ComponentType channelDensityNonUniform at: org.lemsml.jlems.core.type.dynamics.Dynamics.realResolve(Dynamics.java:270)',\n",
        " 'WARNING May 21,2015 21:56  (WARNING) No internal variable is linked to the exposure: iDensity for ComponentType channelDensityNonUniformNernst at: ',\n",
        " 'WARNING May 21,2015 21:56  (WARNING) Unused attribute in Component(id=CaPool type=fixedFactorConcentrationModel): XMLAttribute(ion, ca)  at: org.lemsml.jlems.core.type.Component.resolve(Component.java:502)',\n",
        " 'INFO May 21,2015 21:56  (INFO) Optional path variable is absent PathDerivedVariable{varname=rateScale, path=q10Settings/q10,  func=multiply, tgtvar=q10}',\n",
        " 'INFO May 21,2015 21:56  (INFO) Optional path variable is absent PathDerivedVariable{varname=rateScale, path=q10Settings/q10,  func=multiply, tgtvar=q10}',\n",
        " 'INFO May 21,2015 21:56  (INFO) Optional path variable is absent PathDerivedVariable{varname=rateScale, path=q10Settings/q10,  func=multiply, tgtvar=q10}',\n",
        " 'INFO May 21,2015 21:56  (INFO) Optional path variable is absent PathDerivedVariable{varname=rateScale, path=q10Settings/q10,  func=multiply, tgtvar=q10}',\n",
        " 'INFO May 21,2015 21:56  (INFO) Optional path variable is absent PathDerivedVariable{varname=rateScale, path=q10Settings/q10,  func=multiply, tgtvar=q10}',\n",
        " 'INFO May 21,2015 21:56  (INFO) Finished 10000 steps',\n",
        " 'INFO May 21,2015 21:56  (INFO) Written the file /Users/rgerkin/Dropbox/dev/neuronunit/./nm_v.dat 319513',\n",
        " 'INFO May 21,2015 21:56  (INFO) Written the file /Users/rgerkin/Dropbox/dev/neuronunit/./nm_conc.dat 207956',\n",
        " 'INFO May 21,2015 21:56  (INFO) Finished reading, building, running and displaying LEMS model',\n",
        " \"'\"]"
       ]
      }
     ],
     "prompt_number": 8
    },
    {
     "cell_type": "code",
     "collapsed": false,
     "input": [
      "cols = load_dat('nm_v')"
     ],
     "language": "python",
     "metadata": {},
     "outputs": [],
     "prompt_number": 9
    },
    {
     "cell_type": "code",
     "collapsed": false,
     "input": [
      "plt.plot(cols[0],cols[1],label='Neuron')\n",
      "plt.plot(cols[0],cols[2],label='Muscle')\n",
      "plt.xlabel('Time (s)')\n",
      "plt.ylabel('Vm (V)')\n",
      "plt.legend()"
     ],
     "language": "python",
     "metadata": {},
     "outputs": [
      {
       "metadata": {},
       "output_type": "pyout",
       "prompt_number": 10,
       "text": [
        "<matplotlib.legend.Legend at 0x10867b358>"
       ]
      },
      {
       "metadata": {},
       "output_type": "display_data",
       "png": "[encoded data removed]",
       "text": [
        "<matplotlib.figure.Figure at 0x108061390>"
       ]
      }
     ],
     "prompt_number": 10
    },
    {
     "cell_type": "code",
     "collapsed": false,
     "input": [
      "run_nml(ca_boyle_nml,NML2ChannelAnalysis,channelId='ca_boyle',\n",
      "        temperature=34,\n",
      "        minV=-55,\n",
      "        maxV=80,\n",
      "        duration=600,\n",
      "        clampBaseVoltage=-55,\n",
      "        clampDuration=580,\n",
      "        stepTargetVoltage=10,\n",
      "        erev=50,\n",
      "        caConc=0.001)"
     ],
     "language": "python",
     "metadata": {},
     "outputs": [
      {
       "output_type": "stream",
       "stream": "stdout",
       "text": [
        "pyneuroml.analysis.NML2ChannelAnalysis\n",
        "Written generated LEMS file to LEMS_Test_ca_boyle.xml\n",
        "\n",
        "pyNeuroML >>> Loading LEMS file: LEMS_Test_ca_boyle.xml and running with jNeuroML\n",
        "pyNeuroML >>>  jNeuroML v0.7.1\n",
        "pyNeuroML >>> Loading: /Users/rgerkin/Dropbox/dev/neuronunit/LEMS_Test_ca_boyle.xml with jLEMS, NO GUI mode...\n",
        "pyNeuroML >>> INFO May 21,2015 21:57  (INFO) Reading from: /Users/rgerkin/Dropbox/dev/neuronunit/LEMS_Test_ca_boyle.xml\n",
        "pyNeuroML >>> INFO May 21,2015 21:57  (MISSING)  at: org.lemsml.jlems.core.run.RunConfig.getControlComponent(RunConfig.java:65)\n",
        "pyNeuroML >>> INFO May 21,2015 21:57  (INFO) Finished 40000 steps in 3.733 seconds (sim duration: 0.6ms; dt: 1.5000000000000002E-5ms)\n",
        "pyNeuroML >>> INFO May 21,2015 21:57  (INFO) Written the file /Users/rgerkin/Dropbox/dev/neuronunit/./ca_boyle.e.inf.lems.dat 813095\n",
        "pyNeuroML >>> INFO May 21,2015 21:57  (INFO) Written the file /Users/rgerkin/Dropbox/dev/neuronunit/./ca_boyle.e.tau.lems.dat 817728\n",
        "pyNeuroML >>> INFO May 21,2015 21:57  (INFO) Written the file /Users/rgerkin/Dropbox/dev/neuronunit/./ca_boyle.f.inf.lems.dat 818821\n",
        "pyNeuroML >>> INFO May 21,2015 21:57  (INFO) Written the file /Users/rgerkin/Dropbox/dev/neuronunit/./ca_boyle.f.tau.lems.dat 697725\n",
        "pyNeuroML >>> INFO May 21,2015 21:57  (INFO) Written the file /Users/rgerkin/Dropbox/dev/neuronunit/./ca_boyle.rampV.lems.dat 836100\n",
        "pyNeuroML >>> INFO May 21,2015 21:57  (INFO) Finished reading, building, running and displaying LEMS model\n",
        "pyNeuroML >>> "
       ]
      },
      {
       "output_type": "stream",
       "stream": "stdout",
       "text": [
        "\n",
        "pyNeuroML >>> Loading saved data from ca_boyle.e.inf.lems.dat (jNeuroML)\n",
        "pyNeuroML >>> Loading saved data from ca_boyle.e.tau.lems.dat (jNeuroML)"
       ]
      },
      {
       "output_type": "stream",
       "stream": "stdout",
       "text": [
        "\n",
        "pyNeuroML >>> Loading saved data from ca_boyle.f.inf.lems.dat (jNeuroML)"
       ]
      },
      {
       "output_type": "stream",
       "stream": "stdout",
       "text": [
        "\n",
        "pyNeuroML >>> Loading saved data from ca_boyle.f.tau.lems.dat (jNeuroML)"
       ]
      },
      {
       "output_type": "stream",
       "stream": "stdout",
       "text": [
        "\n",
        "pyNeuroML >>> Loading saved data from ca_boyle.rampV.lems.dat (jNeuroML)"
       ]
      },
      {
       "output_type": "stream",
       "stream": "stdout",
       "text": [
        "\n",
        "Ran LEMS file LEMS_Test_ca_boyle.xml"
       ]
      },
      {
       "output_type": "stream",
       "stream": "stdout",
       "text": [
        "\n"
       ]
      }
     ],
     "prompt_number": 12
    },
    {
     "cell_type": "code",
     "collapsed": false,
     "input": [
      "ls i*.dat"
     ],
     "language": "python",
     "metadata": {},
     "outputs": [
      {
       "output_type": "stream",
       "stream": "stdout",
       "text": [
        "i_15.lems.dat     i_5.lems.dat      i_min15.lems.dat  i_min5.lems.dat\r\n",
        "i_25.lems.dat     i_55.lems.dat     i_min25.lems.dat  i_min55.lems.dat\r\n",
        "i_35.lems.dat     i_65.lems.dat     i_min35.lems.dat\r\n",
        "i_45.lems.dat     i_75.lems.dat     i_min45.lems.dat\r\n"
       ]
      }
     ],
     "prompt_number": 13
    },
    {
     "cell_type": "code",
     "collapsed": false,
     "input": [
      "from BlueBrainProjectShowcase.Channelpedia import iv_analyse"
     ],
     "language": "python",
     "metadata": {},
     "outputs": [],
     "prompt_number": 14
    },
    {
     "cell_type": "code",
     "collapsed": false,
     "input": [
      "v,_,_,i_peak = iv_analyse.main(plot=False)"
     ],
     "language": "python",
     "metadata": {},
     "outputs": [
      {
       "output_type": "stream",
       "stream": "stdout",
       "text": [
        "voltage (mV)   i_lowest (A)   i_highest (A)   i_peak (A)\n",
        "         -55   1.695952E-19   1.695952E-19   1.695952E-19\n",
        "         -45   5.641766E-20   5.690491E-18   5.690491E-18\n",
        "         -35   3.186363E-20   1.099339E-16   1.099339E-16\n",
        "         -25   2.333611E-20   1.815811E-15   1.815811E-15\n",
        "         -15   2.501452E-20   2.392100E-14   2.392100E-14\n",
        "          -5   5.160191E-20   1.712388E-13   1.712388E-13\n",
        "           5   7.328298E-21   4.449544E-13   4.449544E-13\n",
        "          15   2.845650E-22   5.873982E-13   5.873982E-13\n",
        "          25   1.797050E-24   3.912675E-13   3.912675E-13\n",
        "          35   6.681011E-24   2.401117E-13   2.401117E-13\n",
        "          45   3.009079E-24   8.044969E-14   8.044969E-14\n",
        "          55  -8.054445E-14   1.807896E-14  -8.054445E-14\n",
        "          65  -2.416984E-13   1.639105E-14  -2.416984E-13\n",
        "          75  -4.028553E-13   1.615943E-14  -4.028553E-13\n"
       ]
      }
     ],
     "prompt_number": 15
    },
    {
     "cell_type": "code",
     "collapsed": false,
     "input": [
      "Vs = np.arange(-55,85,10)\n",
      "for V in Vs:\n",
      "    file_name = ('i_%d.lems' % V).replace('-','min')\n",
      "    cols = load_dat(file_name)\n",
      "    plt.plot(cols[0],cols[1],label='V = %d' % V)\n",
      "plt.xlabel('Time (s)')\n",
      "plt.ylabel('I (nA)')\n",
      "plt.xlim(0,0.02)\n",
      "plt.legend()"
     ],
     "language": "python",
     "metadata": {},
     "outputs": [
      {
       "metadata": {},
       "output_type": "pyout",
       "prompt_number": 16,
       "text": [
        "<matplotlib.legend.Legend at 0x1083a0320>"
       ]
      },
      {
       "metadata": {},
       "output_type": "display_data",
       "png": "[encoded data removed]",
       "text": [
        "<matplotlib.figure.Figure at 0x10838e978>"
       ]
      }
     ],
     "prompt_number": 16
    },
    {
     "cell_type": "code",
     "collapsed": false,
     "input": [
      "capacitance = 1e-13\n",
      "plt.plot(v,-np.array(i_peak)/capacitance)"
     ],
     "language": "python",
     "metadata": {},
     "outputs": [
      {
       "metadata": {},
       "output_type": "pyout",
       "prompt_number": 17,
       "text": [
        "[<matplotlib.lines.Line2D at 0x10841b518>]"
       ]
      },
      {
       "metadata": {},
       "output_type": "display_data",
       "png": "[encoded data removed]",
       "text": [
        "<matplotlib.figure.Figure at 0x1080b49e8>"
       ]
      }
     ],
     "prompt_number": 17
    }
   ],
   "metadata": {}
  }
 ]
}